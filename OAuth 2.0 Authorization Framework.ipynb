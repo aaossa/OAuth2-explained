{
 "cells": [
  {
   "cell_type": "markdown",
   "metadata": {},
   "source": [
    "# The OAuth 2.0 Authorization Framework\n",
    "\n",
    "This notebook contains information taken directly from [**The OAuth 2.0 Authorization Framework** (RFC 6749)](https://tools.ietf.org/html/rfc6749). Once I complete this document I'll procceed to describe and explain OAuth 2.0 using my own words.\n",
    "\n",
    "---"
   ]
  },
  {
   "cell_type": "markdown",
   "metadata": {},
   "source": [
    "### Introduction\n",
    "\n",
    "##### Roles\n",
    "\n",
    "OAuth defines four roles:\n",
    "\n",
    "* **Resource owner:** An entity capable of granting access to a protected resource. When the resource owner is a person, it is referred to as an *end-user*.\n",
    "* **Resource server:** The server hosting the protected resource, capable of accepting and responding to protected resource requests using *access tokens*.\n",
    "* **Client:** An application making protected resource requests on behalf of the resource owner and with its authorization. The term \"client\" does not imply any particular implementation characteristics (e.g., whether the application executes on a server, a desktop, or other devices).\n",
    "* **Authorization server:** The server issuing access tokens to the client after successfully authenticating the resource owner and obtaining authorization.\n",
    "\n",
    "The interaction between the authorization server and resource server is beyond the scope of this specification. The authorization server may be the same server as the resource server or a separate entity. A single authorization server may issue access tokens accepted by multiple resource servers.\n",
    "\n",
    "##### Protocol Flow\n",
    "\n",
    "     +--------+                               +---------------+\n",
    "     |        |--(A)- Authorization Request ->|   Resource    |\n",
    "     |        |                               |     Owner     |\n",
    "     |        |<-(B)-- Authorization Grant ---|               |\n",
    "     |        |                               +---------------+\n",
    "     |        |\n",
    "     |        |                               +---------------+\n",
    "     |        |--(C)-- Authorization Grant -->| Authorization |\n",
    "     | Client |                               |     Server    |\n",
    "     |        |<-(D)----- Access Token -------|               |\n",
    "     |        |                               +---------------+\n",
    "     |        |\n",
    "     |        |                               +---------------+\n",
    "     |        |--(E)----- Access Token ------>|    Resource   |\n",
    "     |        |                               |     Server    |\n",
    "     |        |<-(F)--- Protected Resource ---|               |\n",
    "     +--------+                               +---------------+\n",
    "     \n",
    "\n",
    "* (A) The client requests authorization from the resource owner.  The authorization request can be made directly to the resource owner (as shown), or preferably indirectly via the authorization server as an intermediary.\n",
    "* (B) The client receives an authorization grant, which is a credential representing the resource owner's authorization, expressed using one of four grant types defined in this specification or using an extension grant type. The authorization grant type depends on the method used by the client to request authorization and the types supported by the authorization server.\n",
    "* (C) The client requests an access token by authenticating with the authorization server and presenting the authorization grant.\n",
    "* (D) The authorization server authenticates the client and validates the authorization grant, and if valid, issues an access token.\n",
    "* (E) The client requests the protected resource from the resource server and authenticates by presenting the access token.\n",
    "* (F) The resource server validates the access token, and if valid, serves the request.\n",
    "\n",
    "The preferred method for the client to obtain an authorization grant from the resource owner (depicted in steps (A) and (B)) is to **use the authorization server as an intermediary** (...).\n",
    "\n",
    "##### Access Token\\*\n",
    "\n",
    "Access tokens are credentials used to access protected resources.  An access token is a string representing an authorization issued to the client.  The string is usually opaque to the client.  Tokens represent specific scopes and durations of access, granted by the resource owner, and enforced by the resource server and authorization server.\n",
    "\n",
    "The token may denote an identifier used to retrieve the authorization information or may self-contain the authorization information in a verifiable manner (i.e., a token string consisting of some data and a signature).  Additional authentication credentials, which are beyond the scope of this specification, may be required in order for the client to use a token.\n",
    "\n",
    "The access token provides an abstraction layer, replacing different authorization constructs (e.g., username and password) with a single token understood by the resource server.  This abstraction enables issuing access tokens more restrictive than the authorization grant used to obtain them, as well as removing the resource server's need to understand a wide range of authentication methods.\n",
    "\n",
    "Access tokens can have different formats, structures, and methods of utilization (e.g., cryptographic properties) based on the resource server security requirements.  Access token attributes and the methods used to access protected resources are beyond the scope of this specification and are defined by companion specifications such as [**The OAuth 2.0 Authorization Framework: Bearer Token Usage** (RFC6750)](https://tools.ietf.org/html/rfc6750).\n",
    "\n",
    "> __\\*__ There's a different section about Refresh Tokens\n",
    "\n",
    "---"
   ]
  },
  {
   "cell_type": "markdown",
   "metadata": {},
   "source": [
    "### Client Registration\n",
    "\n",
    "Before initiating the protocol, the client registers with the authorization server.  Client registration does not require a direct interaction between the client and the authorization server.  When supported by the authorization server, registration can rely on other means for establishing trust and obtaining the required client properties (e.g., redirection URI, client type).  For example, registration can be accomplished using a self-issued or third-party-issued assertion, or by the authorization server performing client discovery using a trusted channel.\n",
    "\n",
    "When registering a client, the client developer SHALL:\n",
    " \n",
    " * specify the client type as described in Section 2.1,\n",
    " * provide its client redirection URIs as described in Section 3.1.2, and\n",
    " * include any other information required by the authorization server (e.g., application name, website, description, logo image, the acceptance of legal terms).\n",
    " \n",
    " ##### Client Types\n",
    " \n",
    "OAuth defines two client types, based on their ability to authenticate securely with the authorization server (i.e., ability to maintain the confidentiality of their client credentials):\n",
    " \n",
    "* **Confidential:** Clients capable of maintaining the confidentiality of their credentials (e.g., client implemented on a secure server with restricted access to the client credentials), or capable of secure client authentication using other means.\n",
    "\n",
    "* **Public:** Clients incapable of maintaining the confidentiality of their credentials (e.g., clients executing on the device used by the resource owner, such as an installed native application or a web browser-based application), and incapable of secure client authentication via any other means.\n",
    "\n",
    "This specification has been designed around the following client profiles:\n",
    "\n",
    "* **Web application:** A web application is a confidential client running on a web server.  Resource owners access the client via an HTML user interface rendered in a user-agent on the device used by the resource owner.  The client credentials as well as any access token issued to the client are stored on the web server and are not exposed to or accessible by the resource owner.\n",
    "\n",
    "* **User-agent based application:** A user-agent-based application is a public client in which the client code is downloaded from a web server and executes within a user-agent (e.g., web browser) on the device used by the resource owner.  Protocol data and credentials are easily accessible (and often visible) to the resource owner.  Since such applications reside within the user-agent, they can make seamless use of the user-agent capabilities when requesting authorization.\n",
    "\n",
    "* **Native application:** A native application is a public client installed and executed on the device used by the resource owner.  Protocol data and credentials are accessible to the resource owner.  It is assumed that any client authentication credentials included in the application can be extracted.  On the other hand, dynamically issued credentials such as access tokens or refresh tokens can receive an acceptable level of protection.  At a minimum, these credentials are protected from hostile servers with which the application may interact.  On some platforms, these credentials might be protected from other applications residing on the same device.\n",
    "\n",
    "##### Client Identifier\n",
    "\n",
    "The authorization server issues the registered client a client identifier -- a unique string representing the registration information provided by the client.  The client identifier is not a secret; it is exposed to the resource owner and MUST NOT be used alone for client authentication.  The client identifier is unique to the authorization server.\n",
    "\n",
    "##### Client Authentication\n",
    "\n",
    "If the client type is confidential, the client and authorization server establish a client authentication method suitable for the security requirements of the authorization server.  The authorization server MAY accept any form of client authentication meeting its security requirements.\n",
    "\n",
    "Confidential clients are typically issued (or establish) a set of client credentials used for authenticating with the authorization server (e.g., password, public/private key pair).\n",
    "\n",
    "The authorization server MUST support the HTTP Basic authentication scheme for authenticating clients that were issued a client password. Alternatively, the authorization server MAY support including the client credentials in the request-body using the **client_id** and **client_secret** parameters. \n",
    "\n",
    "Including the client credentials in the request-body using the two parameters is NOT RECOMMENDED and SHOULD be limited to clients unable to directly utilize the HTTP Basic authentication scheme (or other password-based HTTP authentication schemes).  The parameters can only be transmitted in the request-body and MUST NOT be included in the request URI.\n",
    "\n",
    "Since this client authentication method involves a password, the authorization server MUST protect any endpoint utilizing it against brute force attacks.\n",
    "\n"
   ]
  },
  {
   "cell_type": "markdown",
   "metadata": {},
   "source": [
    "### Protocol Endpoints"
   ]
  },
  {
   "cell_type": "code",
   "execution_count": null,
   "metadata": {
    "collapsed": true
   },
   "outputs": [],
   "source": []
  }
 ],
 "metadata": {
  "kernelspec": {
   "display_name": "Python 3",
   "language": "python",
   "name": "python3"
  },
  "language_info": {
   "codemirror_mode": {
    "name": "ipython",
    "version": 3
   },
   "file_extension": ".py",
   "mimetype": "text/x-python",
   "name": "python",
   "nbconvert_exporter": "python",
   "pygments_lexer": "ipython3",
   "version": "3.5.2"
  }
 },
 "nbformat": 4,
 "nbformat_minor": 2
}
